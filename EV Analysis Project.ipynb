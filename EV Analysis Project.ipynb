{
 "cells": [
  {
   "cell_type": "markdown",
   "id": "2a0a7f7d",
   "metadata": {},
   "source": [
    "# Electric Vehicle Sales Dashboard"
   ]
  },
  {
   "cell_type": "markdown",
   "id": "2281d2b3",
   "metadata": {},
   "source": [
    "### >Imports and Setup for Data Manipulation, Plotting, and Database Connection Display Settings, Warning Suppression, and Visualization Preparation"
   ]
  },
  {
   "cell_type": "code",
   "execution_count": 1,
   "id": "e00078fd",
   "metadata": {},
   "outputs": [],
   "source": [
    "import pandas as pd\n",
    "pd.set_option('display.max_columns', None)\n",
    "import matplotlib.pyplot as plt\n",
    "import pymysql\n",
    "import warnings\n",
    "warnings.filterwarnings(\"ignore\")"
   ]
  },
  {
   "cell_type": "markdown",
   "id": "9022d5a2",
   "metadata": {},
   "source": [
    "### >Connecting to the MySQL Database electricvehicles Using pymysql"
   ]
  },
  {
   "cell_type": "code",
   "execution_count": 4,
   "id": "2ffa11d4",
   "metadata": {},
   "outputs": [],
   "source": [
    "df = pymysql.connect(user = 'root', password = 'Fayiz@123', host = 'localhost', database = 'electricvehicles')"
   ]
  },
  {
   "cell_type": "markdown",
   "id": "77d595ba",
   "metadata": {},
   "source": [
    "### >Importing Data from SQL Tables into Pandas DataFrames for Analysis"
   ]
  },
  {
   "cell_type": "code",
   "execution_count": 5,
   "id": "674ef2f9",
   "metadata": {},
   "outputs": [],
   "source": [
    "dateTable = pd.read_sql(\"select * from dim_date\", df)\n",
    "electricVehiclesbyMakers = pd.read_sql(\"select * from electric_vehicle_sales_by_makers\", df)\n",
    "electricVehiclesbyStates = pd.read_sql(\"select * from electric_vehicle_sales_by_state\", df)"
   ]
  },
  {
   "cell_type": "markdown",
   "id": "f5d84710",
   "metadata": {},
   "source": [
    "### >Data wrangling"
   ]
  },
  {
   "cell_type": "markdown",
   "id": "2e6da60b",
   "metadata": {},
   "source": [
    "displays the first 5 rows of the dateTable DataFrame, giving a quick preview of the data."
   ]
  },
  {
   "cell_type": "code",
   "execution_count": 6,
   "id": "8bd84eb4",
   "metadata": {},
   "outputs": [
    {
     "data": {
      "text/html": [
       "<div>\n",
       "<style scoped>\n",
       "    .dataframe tbody tr th:only-of-type {\n",
       "        vertical-align: middle;\n",
       "    }\n",
       "\n",
       "    .dataframe tbody tr th {\n",
       "        vertical-align: top;\n",
       "    }\n",
       "\n",
       "    .dataframe thead th {\n",
       "        text-align: right;\n",
       "    }\n",
       "</style>\n",
       "<table border=\"1\" class=\"dataframe\">\n",
       "  <thead>\n",
       "    <tr style=\"text-align: right;\">\n",
       "      <th></th>\n",
       "      <th>date_col</th>\n",
       "      <th>fiscal_year</th>\n",
       "      <th>quarter</th>\n",
       "    </tr>\n",
       "  </thead>\n",
       "  <tbody>\n",
       "    <tr>\n",
       "      <th>0</th>\n",
       "      <td>01-Apr-21</td>\n",
       "      <td>2022</td>\n",
       "      <td>Q1</td>\n",
       "    </tr>\n",
       "    <tr>\n",
       "      <th>1</th>\n",
       "      <td>01-May-21</td>\n",
       "      <td>2022</td>\n",
       "      <td>Q1</td>\n",
       "    </tr>\n",
       "    <tr>\n",
       "      <th>2</th>\n",
       "      <td>01-Jun-21</td>\n",
       "      <td>2022</td>\n",
       "      <td>Q1</td>\n",
       "    </tr>\n",
       "    <tr>\n",
       "      <th>3</th>\n",
       "      <td>01-Jul-21</td>\n",
       "      <td>2022</td>\n",
       "      <td>Q2</td>\n",
       "    </tr>\n",
       "    <tr>\n",
       "      <th>4</th>\n",
       "      <td>01-Aug-21</td>\n",
       "      <td>2022</td>\n",
       "      <td>Q2</td>\n",
       "    </tr>\n",
       "  </tbody>\n",
       "</table>\n",
       "</div>"
      ],
      "text/plain": [
       "    date_col  fiscal_year quarter\n",
       "0  01-Apr-21         2022      Q1\n",
       "1  01-May-21         2022      Q1\n",
       "2  01-Jun-21         2022      Q1\n",
       "3  01-Jul-21         2022      Q2\n",
       "4  01-Aug-21         2022      Q2"
      ]
     },
     "execution_count": 6,
     "metadata": {},
     "output_type": "execute_result"
    }
   ],
   "source": [
    "dateTable.head()"
   ]
  },
  {
   "cell_type": "markdown",
   "id": "9b9c9fe6",
   "metadata": {},
   "source": [
    "provides a summary of the dateTable DataFrame, including the index, column names, data types, and the count of non-null values in each column."
   ]
  },
  {
   "cell_type": "code",
   "execution_count": 7,
   "id": "89084844",
   "metadata": {},
   "outputs": [
    {
     "name": "stdout",
     "output_type": "stream",
     "text": [
      "<class 'pandas.core.frame.DataFrame'>\n",
      "RangeIndex: 36 entries, 0 to 35\n",
      "Data columns (total 3 columns):\n",
      " #   Column       Non-Null Count  Dtype \n",
      "---  ------       --------------  ----- \n",
      " 0   date_col     36 non-null     object\n",
      " 1   fiscal_year  36 non-null     int64 \n",
      " 2   quarter      36 non-null     object\n",
      "dtypes: int64(1), object(2)\n",
      "memory usage: 992.0+ bytes\n"
     ]
    }
   ],
   "source": [
    "dateTable.info()"
   ]
  },
  {
   "cell_type": "markdown",
   "id": "2ee5a3d0",
   "metadata": {},
   "source": [
    "converts date_col column to date"
   ]
  },
  {
   "cell_type": "code",
   "execution_count": 9,
   "id": "36395927",
   "metadata": {},
   "outputs": [],
   "source": [
    "dateTable.rename(columns = {\"date_col\" : \"date\"}, inplace = True)"
   ]
  },
  {
   "cell_type": "markdown",
   "id": "507291c9",
   "metadata": {},
   "source": [
    "converts the date column in the dateTable DataFrame to a datetime format using the specified format \"d-b-y\" and then prints the data type of the date column to confirm the conversion."
   ]
  },
  {
   "cell_type": "code",
   "execution_count": 10,
   "id": "3d598211",
   "metadata": {},
   "outputs": [
    {
     "name": "stdout",
     "output_type": "stream",
     "text": [
      "datetime64[ns]\n"
     ]
    }
   ],
   "source": [
    "dateTable.date = pd.to_datetime(dateTable['date'], format = \"%d-%b-%y\" )\n",
    "print(dateTable.date.dtype)"
   ]
  },
  {
   "cell_type": "markdown",
   "id": "d5b15e67",
   "metadata": {},
   "source": [
    "generates summary statistics (like count, mean, min, max, etc.) for the numerical columns in the dateTable DataFrame."
   ]
  },
  {
   "cell_type": "code",
   "execution_count": 11,
   "id": "fdd9b67b",
   "metadata": {},
   "outputs": [
    {
     "data": {
      "text/html": [
       "<div>\n",
       "<style scoped>\n",
       "    .dataframe tbody tr th:only-of-type {\n",
       "        vertical-align: middle;\n",
       "    }\n",
       "\n",
       "    .dataframe tbody tr th {\n",
       "        vertical-align: top;\n",
       "    }\n",
       "\n",
       "    .dataframe thead th {\n",
       "        text-align: right;\n",
       "    }\n",
       "</style>\n",
       "<table border=\"1\" class=\"dataframe\">\n",
       "  <thead>\n",
       "    <tr style=\"text-align: right;\">\n",
       "      <th></th>\n",
       "      <th>fiscal_year</th>\n",
       "    </tr>\n",
       "  </thead>\n",
       "  <tbody>\n",
       "    <tr>\n",
       "      <th>count</th>\n",
       "      <td>36.000000</td>\n",
       "    </tr>\n",
       "    <tr>\n",
       "      <th>mean</th>\n",
       "      <td>2023.000000</td>\n",
       "    </tr>\n",
       "    <tr>\n",
       "      <th>std</th>\n",
       "      <td>0.828079</td>\n",
       "    </tr>\n",
       "    <tr>\n",
       "      <th>min</th>\n",
       "      <td>2022.000000</td>\n",
       "    </tr>\n",
       "    <tr>\n",
       "      <th>25%</th>\n",
       "      <td>2022.000000</td>\n",
       "    </tr>\n",
       "    <tr>\n",
       "      <th>50%</th>\n",
       "      <td>2023.000000</td>\n",
       "    </tr>\n",
       "    <tr>\n",
       "      <th>75%</th>\n",
       "      <td>2024.000000</td>\n",
       "    </tr>\n",
       "    <tr>\n",
       "      <th>max</th>\n",
       "      <td>2024.000000</td>\n",
       "    </tr>\n",
       "  </tbody>\n",
       "</table>\n",
       "</div>"
      ],
      "text/plain": [
       "       fiscal_year\n",
       "count    36.000000\n",
       "mean   2023.000000\n",
       "std       0.828079\n",
       "min    2022.000000\n",
       "25%    2022.000000\n",
       "50%    2023.000000\n",
       "75%    2024.000000\n",
       "max    2024.000000"
      ]
     },
     "execution_count": 11,
     "metadata": {},
     "output_type": "execute_result"
    }
   ],
   "source": [
    "dateTable.describe()"
   ]
  },
  {
   "cell_type": "markdown",
   "id": "81de5581",
   "metadata": {},
   "source": [
    "adds a new column \"month no\" to the dateTable DataFrame, extracting the month number from the date column using the .dt.month attribute."
   ]
  },
  {
   "cell_type": "code",
   "execution_count": 12,
   "id": "f3f823f9",
   "metadata": {},
   "outputs": [],
   "source": [
    "dateTable[\"month no\"] = dateTable.date.dt.month"
   ]
  },
  {
   "cell_type": "markdown",
   "id": "8ef8168e",
   "metadata": {},
   "source": [
    "adds a new column \"month name\" to the dateTable DataFrame, extracting the full month name from the date column and then truncating it to the first three letters (e.g., \"Jan\", \"Feb\")."
   ]
  },
  {
   "cell_type": "code",
   "execution_count": 13,
   "id": "8a6fad73",
   "metadata": {},
   "outputs": [],
   "source": [
    "dateTable[\"month name\"] = dateTable.date.dt.month_name().str[:3]"
   ]
  },
  {
   "cell_type": "markdown",
   "id": "029f49f1",
   "metadata": {},
   "source": [
    "displays the first 5 rows of the dateTable DataFrame, including the newly added \"month no\" and \"month name\" columns, for a quick preview."
   ]
  },
  {
   "cell_type": "code",
   "execution_count": 14,
   "id": "f783b323",
   "metadata": {},
   "outputs": [
    {
     "data": {
      "text/html": [
       "<div>\n",
       "<style scoped>\n",
       "    .dataframe tbody tr th:only-of-type {\n",
       "        vertical-align: middle;\n",
       "    }\n",
       "\n",
       "    .dataframe tbody tr th {\n",
       "        vertical-align: top;\n",
       "    }\n",
       "\n",
       "    .dataframe thead th {\n",
       "        text-align: right;\n",
       "    }\n",
       "</style>\n",
       "<table border=\"1\" class=\"dataframe\">\n",
       "  <thead>\n",
       "    <tr style=\"text-align: right;\">\n",
       "      <th></th>\n",
       "      <th>date</th>\n",
       "      <th>fiscal_year</th>\n",
       "      <th>quarter</th>\n",
       "      <th>month no</th>\n",
       "      <th>month name</th>\n",
       "    </tr>\n",
       "  </thead>\n",
       "  <tbody>\n",
       "    <tr>\n",
       "      <th>0</th>\n",
       "      <td>2021-04-01</td>\n",
       "      <td>2022</td>\n",
       "      <td>Q1</td>\n",
       "      <td>4</td>\n",
       "      <td>Apr</td>\n",
       "    </tr>\n",
       "    <tr>\n",
       "      <th>1</th>\n",
       "      <td>2021-05-01</td>\n",
       "      <td>2022</td>\n",
       "      <td>Q1</td>\n",
       "      <td>5</td>\n",
       "      <td>May</td>\n",
       "    </tr>\n",
       "    <tr>\n",
       "      <th>2</th>\n",
       "      <td>2021-06-01</td>\n",
       "      <td>2022</td>\n",
       "      <td>Q1</td>\n",
       "      <td>6</td>\n",
       "      <td>Jun</td>\n",
       "    </tr>\n",
       "    <tr>\n",
       "      <th>3</th>\n",
       "      <td>2021-07-01</td>\n",
       "      <td>2022</td>\n",
       "      <td>Q2</td>\n",
       "      <td>7</td>\n",
       "      <td>Jul</td>\n",
       "    </tr>\n",
       "    <tr>\n",
       "      <th>4</th>\n",
       "      <td>2021-08-01</td>\n",
       "      <td>2022</td>\n",
       "      <td>Q2</td>\n",
       "      <td>8</td>\n",
       "      <td>Aug</td>\n",
       "    </tr>\n",
       "  </tbody>\n",
       "</table>\n",
       "</div>"
      ],
      "text/plain": [
       "        date  fiscal_year quarter  month no month name\n",
       "0 2021-04-01         2022      Q1         4        Apr\n",
       "1 2021-05-01         2022      Q1         5        May\n",
       "2 2021-06-01         2022      Q1         6        Jun\n",
       "3 2021-07-01         2022      Q2         7        Jul\n",
       "4 2021-08-01         2022      Q2         8        Aug"
      ]
     },
     "execution_count": 14,
     "metadata": {},
     "output_type": "execute_result"
    }
   ],
   "source": [
    "dateTable.head()"
   ]
  },
  {
   "cell_type": "markdown",
   "id": "2f16708a",
   "metadata": {},
   "source": [
    "returns the dimensions of the electricVehiclesbyMakers DataFrame as a tuple, showing the number of rows and columns."
   ]
  },
  {
   "cell_type": "code",
   "execution_count": 15,
   "id": "e2bf9b1c",
   "metadata": {},
   "outputs": [
    {
     "data": {
      "text/plain": [
       "(816, 4)"
      ]
     },
     "execution_count": 15,
     "metadata": {},
     "output_type": "execute_result"
    }
   ],
   "source": [
    "electricVehiclesbyMakers.shape"
   ]
  },
  {
   "cell_type": "markdown",
   "id": "7c53fc16",
   "metadata": {},
   "source": [
    "generates summary statistics (like count, mean, min, max, etc.) for the numerical columns in the electricVehiclesbyMakers DataFrame."
   ]
  },
  {
   "cell_type": "code",
   "execution_count": 16,
   "id": "36a930ec",
   "metadata": {},
   "outputs": [
    {
     "data": {
      "text/html": [
       "<div>\n",
       "<style scoped>\n",
       "    .dataframe tbody tr th:only-of-type {\n",
       "        vertical-align: middle;\n",
       "    }\n",
       "\n",
       "    .dataframe tbody tr th {\n",
       "        vertical-align: top;\n",
       "    }\n",
       "\n",
       "    .dataframe thead th {\n",
       "        text-align: right;\n",
       "    }\n",
       "</style>\n",
       "<table border=\"1\" class=\"dataframe\">\n",
       "  <thead>\n",
       "    <tr style=\"text-align: right;\">\n",
       "      <th></th>\n",
       "      <th>electric_vehicles_sold</th>\n",
       "    </tr>\n",
       "  </thead>\n",
       "  <tbody>\n",
       "    <tr>\n",
       "      <th>count</th>\n",
       "      <td>816.000000</td>\n",
       "    </tr>\n",
       "    <tr>\n",
       "      <th>mean</th>\n",
       "      <td>2531.998775</td>\n",
       "    </tr>\n",
       "    <tr>\n",
       "      <th>std</th>\n",
       "      <td>4771.077333</td>\n",
       "    </tr>\n",
       "    <tr>\n",
       "      <th>min</th>\n",
       "      <td>0.000000</td>\n",
       "    </tr>\n",
       "    <tr>\n",
       "      <th>25%</th>\n",
       "      <td>42.000000</td>\n",
       "    </tr>\n",
       "    <tr>\n",
       "      <th>50%</th>\n",
       "      <td>662.000000</td>\n",
       "    </tr>\n",
       "    <tr>\n",
       "      <th>75%</th>\n",
       "      <td>2636.500000</td>\n",
       "    </tr>\n",
       "    <tr>\n",
       "      <th>max</th>\n",
       "      <td>44630.000000</td>\n",
       "    </tr>\n",
       "  </tbody>\n",
       "</table>\n",
       "</div>"
      ],
      "text/plain": [
       "       electric_vehicles_sold\n",
       "count              816.000000\n",
       "mean              2531.998775\n",
       "std               4771.077333\n",
       "min                  0.000000\n",
       "25%                 42.000000\n",
       "50%                662.000000\n",
       "75%               2636.500000\n",
       "max              44630.000000"
      ]
     },
     "execution_count": 16,
     "metadata": {},
     "output_type": "execute_result"
    }
   ],
   "source": [
    "electricVehiclesbyMakers.describe()"
   ]
  },
  {
   "cell_type": "markdown",
   "id": "fc029fff",
   "metadata": {},
   "source": [
    "displays the first 5 rows of the electricVehiclesbyMakers DataFrame for a quick overview of the data."
   ]
  },
  {
   "cell_type": "code",
   "execution_count": 17,
   "id": "2436c9f8",
   "metadata": {},
   "outputs": [
    {
     "data": {
      "text/html": [
       "<div>\n",
       "<style scoped>\n",
       "    .dataframe tbody tr th:only-of-type {\n",
       "        vertical-align: middle;\n",
       "    }\n",
       "\n",
       "    .dataframe tbody tr th {\n",
       "        vertical-align: top;\n",
       "    }\n",
       "\n",
       "    .dataframe thead th {\n",
       "        text-align: right;\n",
       "    }\n",
       "</style>\n",
       "<table border=\"1\" class=\"dataframe\">\n",
       "  <thead>\n",
       "    <tr style=\"text-align: right;\">\n",
       "      <th></th>\n",
       "      <th>date_col</th>\n",
       "      <th>vehicle_category</th>\n",
       "      <th>maker</th>\n",
       "      <th>electric_vehicles_sold</th>\n",
       "    </tr>\n",
       "  </thead>\n",
       "  <tbody>\n",
       "    <tr>\n",
       "      <th>0</th>\n",
       "      <td>1-Apr-21</td>\n",
       "      <td>2-Wheelers</td>\n",
       "      <td>OLA ELECTRIC</td>\n",
       "      <td>0</td>\n",
       "    </tr>\n",
       "    <tr>\n",
       "      <th>1</th>\n",
       "      <td>1-Apr-22</td>\n",
       "      <td>2-Wheelers</td>\n",
       "      <td>OKAYA EV</td>\n",
       "      <td>0</td>\n",
       "    </tr>\n",
       "    <tr>\n",
       "      <th>2</th>\n",
       "      <td>1-May-21</td>\n",
       "      <td>2-Wheelers</td>\n",
       "      <td>OLA ELECTRIC</td>\n",
       "      <td>0</td>\n",
       "    </tr>\n",
       "    <tr>\n",
       "      <th>3</th>\n",
       "      <td>1-Jun-21</td>\n",
       "      <td>2-Wheelers</td>\n",
       "      <td>OLA ELECTRIC</td>\n",
       "      <td>0</td>\n",
       "    </tr>\n",
       "    <tr>\n",
       "      <th>4</th>\n",
       "      <td>1-Jul-21</td>\n",
       "      <td>2-Wheelers</td>\n",
       "      <td>OLA ELECTRIC</td>\n",
       "      <td>0</td>\n",
       "    </tr>\n",
       "  </tbody>\n",
       "</table>\n",
       "</div>"
      ],
      "text/plain": [
       "   date_col vehicle_category         maker  electric_vehicles_sold\n",
       "0  1-Apr-21       2-Wheelers  OLA ELECTRIC                       0\n",
       "1  1-Apr-22       2-Wheelers      OKAYA EV                       0\n",
       "2  1-May-21       2-Wheelers  OLA ELECTRIC                       0\n",
       "3  1-Jun-21       2-Wheelers  OLA ELECTRIC                       0\n",
       "4  1-Jul-21       2-Wheelers  OLA ELECTRIC                       0"
      ]
     },
     "execution_count": 17,
     "metadata": {},
     "output_type": "execute_result"
    }
   ],
   "source": [
    "electricVehiclesbyMakers.head()"
   ]
  },
  {
   "cell_type": "markdown",
   "id": "7c429957",
   "metadata": {},
   "source": [
    "renames the column \"date_col\" to \"date\" in the electricVehiclesbyMakers DataFrame and modifies the DataFrame in place without creating a copy."
   ]
  },
  {
   "cell_type": "code",
   "execution_count": 19,
   "id": "34d2ab4e",
   "metadata": {},
   "outputs": [],
   "source": [
    "electricVehiclesbyMakers.rename(columns = {\"date_col\" : \"date\"}, inplace = True)"
   ]
  },
  {
   "cell_type": "markdown",
   "id": "f71d6e76",
   "metadata": {},
   "source": [
    "provides a summary of the electricVehiclesbyMakers DataFrame, including the column names, data types, non-null counts, and memory usage."
   ]
  },
  {
   "cell_type": "code",
   "execution_count": 20,
   "id": "86c5a372",
   "metadata": {},
   "outputs": [
    {
     "name": "stdout",
     "output_type": "stream",
     "text": [
      "<class 'pandas.core.frame.DataFrame'>\n",
      "RangeIndex: 816 entries, 0 to 815\n",
      "Data columns (total 4 columns):\n",
      " #   Column                  Non-Null Count  Dtype \n",
      "---  ------                  --------------  ----- \n",
      " 0   date                    816 non-null    object\n",
      " 1   vehicle_category        816 non-null    object\n",
      " 2   maker                   816 non-null    object\n",
      " 3   electric_vehicles_sold  816 non-null    int64 \n",
      "dtypes: int64(1), object(3)\n",
      "memory usage: 25.6+ KB\n"
     ]
    }
   ],
   "source": [
    "electricVehiclesbyMakers.info()"
   ]
  },
  {
   "cell_type": "markdown",
   "id": "3192118d",
   "metadata": {},
   "source": [
    "converts the date column in the electricVehiclesbyMakers DataFrame to a datetime format using the specified date format \"%d-%b-%y\"."
   ]
  },
  {
   "cell_type": "code",
   "execution_count": 21,
   "id": "19a2ec49",
   "metadata": {},
   "outputs": [],
   "source": [
    "electricVehiclesbyMakers['date'] = pd.to_datetime(electricVehiclesbyMakers.date, format = \"%d-%b-%y\")"
   ]
  },
  {
   "cell_type": "markdown",
   "id": "4af483a3",
   "metadata": {},
   "source": [
    "prints the data type of the date column in the electricVehiclesbyMakers DataFrame, confirming whether the conversion to datetime was successful."
   ]
  },
  {
   "cell_type": "code",
   "execution_count": 22,
   "id": "a5c0ca53",
   "metadata": {},
   "outputs": [
    {
     "name": "stdout",
     "output_type": "stream",
     "text": [
      "datetime64[ns]\n"
     ]
    }
   ],
   "source": [
    "print(electricVehiclesbyMakers.date.dtype)"
   ]
  },
  {
   "cell_type": "markdown",
   "id": "bd86c300",
   "metadata": {},
   "source": [
    "converts all the values in the maker column of the electricVehiclesbyMakers DataFrame to title case (capitalizing the first letter of each word)."
   ]
  },
  {
   "cell_type": "code",
   "execution_count": 23,
   "id": "7707de9d",
   "metadata": {},
   "outputs": [],
   "source": [
    "electricVehiclesbyMakers.maker = electricVehiclesbyMakers.maker.str.title()"
   ]
  },
  {
   "cell_type": "markdown",
   "id": "7db66310",
   "metadata": {},
   "source": [
    "displays the first 5 rows of the electricVehiclesbyMakers DataFrame, showing the updated maker column in title case along with other data."
   ]
  },
  {
   "cell_type": "code",
   "execution_count": 24,
   "id": "dabc8164",
   "metadata": {},
   "outputs": [
    {
     "data": {
      "text/html": [
       "<div>\n",
       "<style scoped>\n",
       "    .dataframe tbody tr th:only-of-type {\n",
       "        vertical-align: middle;\n",
       "    }\n",
       "\n",
       "    .dataframe tbody tr th {\n",
       "        vertical-align: top;\n",
       "    }\n",
       "\n",
       "    .dataframe thead th {\n",
       "        text-align: right;\n",
       "    }\n",
       "</style>\n",
       "<table border=\"1\" class=\"dataframe\">\n",
       "  <thead>\n",
       "    <tr style=\"text-align: right;\">\n",
       "      <th></th>\n",
       "      <th>date</th>\n",
       "      <th>vehicle_category</th>\n",
       "      <th>maker</th>\n",
       "      <th>electric_vehicles_sold</th>\n",
       "    </tr>\n",
       "  </thead>\n",
       "  <tbody>\n",
       "    <tr>\n",
       "      <th>0</th>\n",
       "      <td>2021-04-01</td>\n",
       "      <td>2-Wheelers</td>\n",
       "      <td>Ola Electric</td>\n",
       "      <td>0</td>\n",
       "    </tr>\n",
       "    <tr>\n",
       "      <th>1</th>\n",
       "      <td>2022-04-01</td>\n",
       "      <td>2-Wheelers</td>\n",
       "      <td>Okaya Ev</td>\n",
       "      <td>0</td>\n",
       "    </tr>\n",
       "    <tr>\n",
       "      <th>2</th>\n",
       "      <td>2021-05-01</td>\n",
       "      <td>2-Wheelers</td>\n",
       "      <td>Ola Electric</td>\n",
       "      <td>0</td>\n",
       "    </tr>\n",
       "    <tr>\n",
       "      <th>3</th>\n",
       "      <td>2021-06-01</td>\n",
       "      <td>2-Wheelers</td>\n",
       "      <td>Ola Electric</td>\n",
       "      <td>0</td>\n",
       "    </tr>\n",
       "    <tr>\n",
       "      <th>4</th>\n",
       "      <td>2021-07-01</td>\n",
       "      <td>2-Wheelers</td>\n",
       "      <td>Ola Electric</td>\n",
       "      <td>0</td>\n",
       "    </tr>\n",
       "  </tbody>\n",
       "</table>\n",
       "</div>"
      ],
      "text/plain": [
       "        date vehicle_category         maker  electric_vehicles_sold\n",
       "0 2021-04-01       2-Wheelers  Ola Electric                       0\n",
       "1 2022-04-01       2-Wheelers      Okaya Ev                       0\n",
       "2 2021-05-01       2-Wheelers  Ola Electric                       0\n",
       "3 2021-06-01       2-Wheelers  Ola Electric                       0\n",
       "4 2021-07-01       2-Wheelers  Ola Electric                       0"
      ]
     },
     "execution_count": 24,
     "metadata": {},
     "output_type": "execute_result"
    }
   ],
   "source": [
    "electricVehiclesbyMakers.head()"
   ]
  },
  {
   "cell_type": "markdown",
   "id": "6af562de",
   "metadata": {},
   "source": [
    "returns the number of unique values in the maker column of the electricVehiclesbyMakers DataFrame."
   ]
  },
  {
   "cell_type": "code",
   "execution_count": 26,
   "id": "0418c766",
   "metadata": {},
   "outputs": [
    {
     "data": {
      "text/plain": [
       "26"
      ]
     },
     "execution_count": 26,
     "metadata": {},
     "output_type": "execute_result"
    }
   ],
   "source": [
    "electricVehiclesbyMakers.maker.nunique()"
   ]
  },
  {
   "cell_type": "markdown",
   "id": "4f3c90b9",
   "metadata": {},
   "source": [
    "iterates over each unique value in the maker column of the electricVehiclesbyMakers DataFrame and prints each value on a new line."
   ]
  },
  {
   "cell_type": "code",
   "execution_count": 27,
   "id": "f6dcd315",
   "metadata": {},
   "outputs": [
    {
     "name": "stdout",
     "output_type": "stream",
     "text": [
      "Ola Electric\n",
      "Okaya Ev\n",
      "Byd India\n",
      "Pca Automobiles\n",
      "Bmw India\n",
      "Volvo Auto India\n",
      "Kia Motors\n",
      "Mercedes -Benz Ag\n",
      "Tata Motors\n",
      "Mg Motor\n",
      "Mahindra & Mahindra\n",
      "Hyundai Motor\n",
      "Hero Electric\n",
      "Okinawa\n",
      "Ampere\n",
      "Ather\n",
      "Pure Ev\n",
      "Tvs\n",
      "Revolt\n",
      "Bajaj\n",
      "Being\n",
      "Jitendra\n",
      "Others\n",
      "Bgauss\n",
      "Battre Electric\n",
      "Kinetic Green\n"
     ]
    }
   ],
   "source": [
    "for maker in electricVehiclesbyMakers.maker.unique():\n",
    "    print(maker, end = \"\\n\")"
   ]
  },
  {
   "cell_type": "markdown",
   "id": "410be7d7",
   "metadata": {},
   "source": [
    "displays the first 5 rows of the electricVehiclesbyStates DataFrame, providing a preview of its data."
   ]
  },
  {
   "cell_type": "code",
   "execution_count": 28,
   "id": "5d77550d",
   "metadata": {},
   "outputs": [
    {
     "data": {
      "text/html": [
       "<div>\n",
       "<style scoped>\n",
       "    .dataframe tbody tr th:only-of-type {\n",
       "        vertical-align: middle;\n",
       "    }\n",
       "\n",
       "    .dataframe tbody tr th {\n",
       "        vertical-align: top;\n",
       "    }\n",
       "\n",
       "    .dataframe thead th {\n",
       "        text-align: right;\n",
       "    }\n",
       "</style>\n",
       "<table border=\"1\" class=\"dataframe\">\n",
       "  <thead>\n",
       "    <tr style=\"text-align: right;\">\n",
       "      <th></th>\n",
       "      <th>date_col</th>\n",
       "      <th>state</th>\n",
       "      <th>vehicle_category</th>\n",
       "      <th>electric_vehicles_sold</th>\n",
       "      <th>total_vehicles_sold</th>\n",
       "    </tr>\n",
       "  </thead>\n",
       "  <tbody>\n",
       "    <tr>\n",
       "      <th>0</th>\n",
       "      <td>1-Apr-21</td>\n",
       "      <td>Sikkim</td>\n",
       "      <td>2-Wheelers</td>\n",
       "      <td>0</td>\n",
       "      <td>398</td>\n",
       "    </tr>\n",
       "    <tr>\n",
       "      <th>1</th>\n",
       "      <td>1-Apr-21</td>\n",
       "      <td>Sikkim</td>\n",
       "      <td>4-Wheelers</td>\n",
       "      <td>0</td>\n",
       "      <td>361</td>\n",
       "    </tr>\n",
       "    <tr>\n",
       "      <th>2</th>\n",
       "      <td>1-May-21</td>\n",
       "      <td>Sikkim</td>\n",
       "      <td>2-Wheelers</td>\n",
       "      <td>0</td>\n",
       "      <td>113</td>\n",
       "    </tr>\n",
       "    <tr>\n",
       "      <th>3</th>\n",
       "      <td>1-May-21</td>\n",
       "      <td>Sikkim</td>\n",
       "      <td>4-Wheelers</td>\n",
       "      <td>0</td>\n",
       "      <td>98</td>\n",
       "    </tr>\n",
       "    <tr>\n",
       "      <th>4</th>\n",
       "      <td>1-Jun-21</td>\n",
       "      <td>Sikkim</td>\n",
       "      <td>2-Wheelers</td>\n",
       "      <td>0</td>\n",
       "      <td>229</td>\n",
       "    </tr>\n",
       "  </tbody>\n",
       "</table>\n",
       "</div>"
      ],
      "text/plain": [
       "   date_col   state vehicle_category  electric_vehicles_sold  \\\n",
       "0  1-Apr-21  Sikkim       2-Wheelers                       0   \n",
       "1  1-Apr-21  Sikkim       4-Wheelers                       0   \n",
       "2  1-May-21  Sikkim       2-Wheelers                       0   \n",
       "3  1-May-21  Sikkim       4-Wheelers                       0   \n",
       "4  1-Jun-21  Sikkim       2-Wheelers                       0   \n",
       "\n",
       "   total_vehicles_sold  \n",
       "0                  398  \n",
       "1                  361  \n",
       "2                  113  \n",
       "3                   98  \n",
       "4                  229  "
      ]
     },
     "execution_count": 28,
     "metadata": {},
     "output_type": "execute_result"
    }
   ],
   "source": [
    "electricVehiclesbyStates.head()"
   ]
  },
  {
   "cell_type": "markdown",
   "id": "70c5dfe2",
   "metadata": {},
   "source": [
    "generates summary statistics for the categorical (object) columns in the electricVehiclesbyStates DataFrame, including counts, unique values, top values, and their frequencies."
   ]
  },
  {
   "cell_type": "code",
   "execution_count": 29,
   "id": "f95a3cb3",
   "metadata": {},
   "outputs": [
    {
     "data": {
      "text/html": [
       "<div>\n",
       "<style scoped>\n",
       "    .dataframe tbody tr th:only-of-type {\n",
       "        vertical-align: middle;\n",
       "    }\n",
       "\n",
       "    .dataframe tbody tr th {\n",
       "        vertical-align: top;\n",
       "    }\n",
       "\n",
       "    .dataframe thead th {\n",
       "        text-align: right;\n",
       "    }\n",
       "</style>\n",
       "<table border=\"1\" class=\"dataframe\">\n",
       "  <thead>\n",
       "    <tr style=\"text-align: right;\">\n",
       "      <th></th>\n",
       "      <th>date_col</th>\n",
       "      <th>state</th>\n",
       "      <th>vehicle_category</th>\n",
       "    </tr>\n",
       "  </thead>\n",
       "  <tbody>\n",
       "    <tr>\n",
       "      <th>count</th>\n",
       "      <td>2445</td>\n",
       "      <td>2445</td>\n",
       "      <td>2445</td>\n",
       "    </tr>\n",
       "    <tr>\n",
       "      <th>unique</th>\n",
       "      <td>36</td>\n",
       "      <td>35</td>\n",
       "      <td>2</td>\n",
       "    </tr>\n",
       "    <tr>\n",
       "      <th>top</th>\n",
       "      <td>1-Apr-21</td>\n",
       "      <td>Sikkim</td>\n",
       "      <td>2-Wheelers</td>\n",
       "    </tr>\n",
       "    <tr>\n",
       "      <th>freq</th>\n",
       "      <td>68</td>\n",
       "      <td>72</td>\n",
       "      <td>1223</td>\n",
       "    </tr>\n",
       "  </tbody>\n",
       "</table>\n",
       "</div>"
      ],
      "text/plain": [
       "        date_col   state vehicle_category\n",
       "count       2445    2445             2445\n",
       "unique        36      35                2\n",
       "top     1-Apr-21  Sikkim       2-Wheelers\n",
       "freq          68      72             1223"
      ]
     },
     "execution_count": 29,
     "metadata": {},
     "output_type": "execute_result"
    }
   ],
   "source": [
    "electricVehiclesbyStates.describe(include = \"object\")"
   ]
  },
  {
   "cell_type": "markdown",
   "id": "c0f10a3e",
   "metadata": {},
   "source": [
    "renames the column \"date_col\" to \"date\" in the electricVehiclesbyStates DataFrame, modifying it in place."
   ]
  },
  {
   "cell_type": "code",
   "execution_count": 31,
   "id": "8b8967f1",
   "metadata": {},
   "outputs": [],
   "source": [
    "electricVehiclesbyStates.rename({\"date_col\" : \"date\"}, axis = 1, inplace = True)"
   ]
  },
  {
   "cell_type": "markdown",
   "id": "1ced676b",
   "metadata": {},
   "source": [
    "displays the first 5 rows of the electricVehiclesbyStates DataFrame, providing a preview of its data."
   ]
  },
  {
   "cell_type": "code",
   "execution_count": 32,
   "id": "ade80ecb",
   "metadata": {},
   "outputs": [
    {
     "data": {
      "text/html": [
       "<div>\n",
       "<style scoped>\n",
       "    .dataframe tbody tr th:only-of-type {\n",
       "        vertical-align: middle;\n",
       "    }\n",
       "\n",
       "    .dataframe tbody tr th {\n",
       "        vertical-align: top;\n",
       "    }\n",
       "\n",
       "    .dataframe thead th {\n",
       "        text-align: right;\n",
       "    }\n",
       "</style>\n",
       "<table border=\"1\" class=\"dataframe\">\n",
       "  <thead>\n",
       "    <tr style=\"text-align: right;\">\n",
       "      <th></th>\n",
       "      <th>date</th>\n",
       "      <th>state</th>\n",
       "      <th>vehicle_category</th>\n",
       "      <th>electric_vehicles_sold</th>\n",
       "      <th>total_vehicles_sold</th>\n",
       "    </tr>\n",
       "  </thead>\n",
       "  <tbody>\n",
       "    <tr>\n",
       "      <th>0</th>\n",
       "      <td>1-Apr-21</td>\n",
       "      <td>Sikkim</td>\n",
       "      <td>2-Wheelers</td>\n",
       "      <td>0</td>\n",
       "      <td>398</td>\n",
       "    </tr>\n",
       "    <tr>\n",
       "      <th>1</th>\n",
       "      <td>1-Apr-21</td>\n",
       "      <td>Sikkim</td>\n",
       "      <td>4-Wheelers</td>\n",
       "      <td>0</td>\n",
       "      <td>361</td>\n",
       "    </tr>\n",
       "    <tr>\n",
       "      <th>2</th>\n",
       "      <td>1-May-21</td>\n",
       "      <td>Sikkim</td>\n",
       "      <td>2-Wheelers</td>\n",
       "      <td>0</td>\n",
       "      <td>113</td>\n",
       "    </tr>\n",
       "    <tr>\n",
       "      <th>3</th>\n",
       "      <td>1-May-21</td>\n",
       "      <td>Sikkim</td>\n",
       "      <td>4-Wheelers</td>\n",
       "      <td>0</td>\n",
       "      <td>98</td>\n",
       "    </tr>\n",
       "    <tr>\n",
       "      <th>4</th>\n",
       "      <td>1-Jun-21</td>\n",
       "      <td>Sikkim</td>\n",
       "      <td>2-Wheelers</td>\n",
       "      <td>0</td>\n",
       "      <td>229</td>\n",
       "    </tr>\n",
       "  </tbody>\n",
       "</table>\n",
       "</div>"
      ],
      "text/plain": [
       "       date   state vehicle_category  electric_vehicles_sold  \\\n",
       "0  1-Apr-21  Sikkim       2-Wheelers                       0   \n",
       "1  1-Apr-21  Sikkim       4-Wheelers                       0   \n",
       "2  1-May-21  Sikkim       2-Wheelers                       0   \n",
       "3  1-May-21  Sikkim       4-Wheelers                       0   \n",
       "4  1-Jun-21  Sikkim       2-Wheelers                       0   \n",
       "\n",
       "   total_vehicles_sold  \n",
       "0                  398  \n",
       "1                  361  \n",
       "2                  113  \n",
       "3                   98  \n",
       "4                  229  "
      ]
     },
     "execution_count": 32,
     "metadata": {},
     "output_type": "execute_result"
    }
   ],
   "source": [
    "electricVehiclesbyStates.head()"
   ]
  },
  {
   "cell_type": "markdown",
   "id": "f665680f",
   "metadata": {},
   "source": [
    "converts the date column in the electricVehiclesbyStates DataFrame to a datetime format using the specified date format \"%d-%b-%y\"."
   ]
  },
  {
   "cell_type": "code",
   "execution_count": 33,
   "id": "43964529",
   "metadata": {},
   "outputs": [],
   "source": [
    "electricVehiclesbyStates.date = pd.to_datetime(electricVehiclesbyStates.date, format = \"%d-%b-%y\")"
   ]
  },
  {
   "cell_type": "markdown",
   "id": "5c8fbb26",
   "metadata": {},
   "source": [
    "prints the data type of the date column in the electricVehiclesbyStates DataFrame, confirming the conversion to datetime."
   ]
  },
  {
   "cell_type": "code",
   "execution_count": 34,
   "id": "28fa35e8",
   "metadata": {},
   "outputs": [
    {
     "name": "stdout",
     "output_type": "stream",
     "text": [
      "datetime64[ns]\n"
     ]
    }
   ],
   "source": [
    "print(electricVehiclesbyStates.date.dtype)"
   ]
  },
  {
   "cell_type": "markdown",
   "id": "837f23ce",
   "metadata": {},
   "source": [
    "returns the number of unique values in the state column of the electricVehiclesbyStates DataFrame."
   ]
  },
  {
   "cell_type": "code",
   "execution_count": 35,
   "id": "87723ac3",
   "metadata": {},
   "outputs": [
    {
     "data": {
      "text/plain": [
       "35"
      ]
     },
     "execution_count": 35,
     "metadata": {},
     "output_type": "execute_result"
    }
   ],
   "source": [
    "electricVehiclesbyStates.state.nunique()"
   ]
  },
  {
   "cell_type": "markdown",
   "id": "965c33ff",
   "metadata": {},
   "source": [
    "iterates over each unique value in the state column of the electricVehiclesbyStates DataFrame and prints each state on a new line."
   ]
  },
  {
   "cell_type": "code",
   "execution_count": 36,
   "id": "111ad5ba",
   "metadata": {},
   "outputs": [
    {
     "name": "stdout",
     "output_type": "stream",
     "text": [
      "Sikkim\n",
      "Andaman & Nicobar Island\n",
      "Arunachal Pradesh\n",
      "Assam\n",
      "Chhattisgarh\n",
      "DNH and DD\n",
      "Jammu and Kashmir\n",
      "Ladakh\n",
      "Manipur\n",
      "Meghalaya\n",
      "Mizoram\n",
      "Nagaland\n",
      "Puducherry\n",
      "Tripura\n",
      "Bihar\n",
      "Chandigarh\n",
      "Delhi\n",
      "Madhya Pradesh\n",
      "Odisha\n",
      "Punjab\n",
      "Uttarakhand\n",
      "Himachal Pradesh\n",
      "Andaman & Nicobar\n",
      "Haryana\n",
      "Jharkhand\n",
      "Andhra Pradesh\n",
      "Goa\n",
      "Gujarat\n",
      "Karnataka\n",
      "Kerala\n",
      "Maharashtra\n",
      "Rajasthan\n",
      "Tamil Nadu\n",
      "Uttar Pradesh\n",
      "West Bengal\n"
     ]
    }
   ],
   "source": [
    "for state in electricVehiclesbyStates.state.unique():\n",
    "    print(state, end = \"\\n\")"
   ]
  },
  {
   "cell_type": "markdown",
   "id": "4c916660",
   "metadata": {},
   "source": [
    "replaces occurrences of \"Andaman & Nicobar Island\" with \"Andaman & Nicobar\" in the state column of the electricVehiclesbyStates DataFrame, modifying it in place."
   ]
  },
  {
   "cell_type": "code",
   "execution_count": 37,
   "id": "ff237e13",
   "metadata": {},
   "outputs": [],
   "source": [
    "electricVehiclesbyStates.state.replace({\"Andaman & Nicobar Island\" : \"Andaman & Nicobar\"}, inplace = True)"
   ]
  },
  {
   "cell_type": "markdown",
   "id": "b58724fe",
   "metadata": {},
   "source": [
    "returns the number of unique values in the state column of the electricVehiclesbyStates DataFrame, reflecting any changes made to the column."
   ]
  },
  {
   "cell_type": "code",
   "execution_count": 38,
   "id": "0cb410bd",
   "metadata": {},
   "outputs": [
    {
     "data": {
      "text/plain": [
       "34"
      ]
     },
     "execution_count": 38,
     "metadata": {},
     "output_type": "execute_result"
    }
   ],
   "source": [
    "electricVehiclesbyStates.state.nunique()"
   ]
  },
  {
   "cell_type": "markdown",
   "id": "3a8056c3",
   "metadata": {},
   "source": [
    "## >EDA"
   ]
  },
  {
   "cell_type": "code",
   "execution_count": 39,
   "id": "0c53d98b",
   "metadata": {},
   "outputs": [
    {
     "name": "stdout",
     "output_type": "stream",
     "text": [
      "\u001b[1m Total Vehicles Sold:\u001b[0m 57.22M\n",
      "\u001b[1m Total Electric Vehicles Sold:\u001b[0m 2.07M\n",
      "\u001b[1m EV Penetration Rate:\u001b[0m 3.62%\n"
     ]
    }
   ],
   "source": [
    "# Calculate total vehicles sold in millions\n",
    "totalVehiclesSold = round(electricVehiclesbyStates.total_vehicles_sold.sum() / 1_000_000, 2)\n",
    "\n",
    "# Calculate total electric vehicles sold in millions\n",
    "electricVehiclesSold = round(electricVehiclesbyMakers.electric_vehicles_sold.sum() / 1_000_000, 2)\n",
    "\n",
    "# Calculate EV penetration rate\n",
    "evPenetrationRate = round(electricVehiclesSold / totalVehiclesSold * 100, 2)\n",
    "\n",
    "# Print results with formatting\n",
    "print(\"\\033[1m Total Vehicles Sold:\\033[0m {}M\".format(totalVehiclesSold))\n",
    "print(\"\\033[1m Total Electric Vehicles Sold:\\033[0m {}M\".format(electricVehiclesSold))\n",
    "print(\"\\033[1m EV Penetration Rate:\\033[0m {}%\".format(evPenetrationRate))\n"
   ]
  },
  {
   "cell_type": "markdown",
   "id": "7e30c97e",
   "metadata": {},
   "source": [
    "performs an inner join between dateTable and electricVehiclesbyStates DataFrames on the common column date. The resulting dateStatesTable will contain only the rows where the date values match in both tables."
   ]
  },
  {
   "cell_type": "code",
   "execution_count": 40,
   "id": "eaa83504",
   "metadata": {},
   "outputs": [],
   "source": [
    "dateStatesTable = dateTable.merge(electricVehiclesbyStates, on = 'date', how = \"inner\")"
   ]
  },
  {
   "cell_type": "markdown",
   "id": "e359178c",
   "metadata": {},
   "source": [
    "performs an inner join between dateTable and electricVehiclesbyMakers DataFrames on the common column date. The resulting dateMakersTable will contain only the rows where the date values match in both tables.\n",
    "\n",
    "\n",
    "\n",
    "\n",
    "\n",
    "\n",
    "\n"
   ]
  },
  {
   "cell_type": "code",
   "execution_count": 42,
   "id": "05d449f0",
   "metadata": {},
   "outputs": [],
   "source": [
    "dateMakersTable = dateTable.merge(electricVehiclesbyMakers, on = 'date', how = \"inner\")"
   ]
  },
  {
   "cell_type": "markdown",
   "id": "de56cafe",
   "metadata": {},
   "source": [
    "displays the first 5 rows of the dateStatesTable DataFrame, allowing you to preview the merged data from dateTable and electricVehiclesbyStates."
   ]
  },
  {
   "cell_type": "code",
   "execution_count": 44,
   "id": "29d2168b",
   "metadata": {},
   "outputs": [
    {
     "data": {
      "text/html": [
       "<div>\n",
       "<style scoped>\n",
       "    .dataframe tbody tr th:only-of-type {\n",
       "        vertical-align: middle;\n",
       "    }\n",
       "\n",
       "    .dataframe tbody tr th {\n",
       "        vertical-align: top;\n",
       "    }\n",
       "\n",
       "    .dataframe thead th {\n",
       "        text-align: right;\n",
       "    }\n",
       "</style>\n",
       "<table border=\"1\" class=\"dataframe\">\n",
       "  <thead>\n",
       "    <tr style=\"text-align: right;\">\n",
       "      <th></th>\n",
       "      <th>date</th>\n",
       "      <th>fiscal_year</th>\n",
       "      <th>quarter</th>\n",
       "      <th>month no</th>\n",
       "      <th>month name</th>\n",
       "      <th>state</th>\n",
       "      <th>vehicle_category</th>\n",
       "      <th>electric_vehicles_sold</th>\n",
       "      <th>total_vehicles_sold</th>\n",
       "    </tr>\n",
       "  </thead>\n",
       "  <tbody>\n",
       "    <tr>\n",
       "      <th>0</th>\n",
       "      <td>2021-04-01</td>\n",
       "      <td>2022</td>\n",
       "      <td>Q1</td>\n",
       "      <td>4</td>\n",
       "      <td>Apr</td>\n",
       "      <td>Sikkim</td>\n",
       "      <td>2-Wheelers</td>\n",
       "      <td>0</td>\n",
       "      <td>398</td>\n",
       "    </tr>\n",
       "    <tr>\n",
       "      <th>1</th>\n",
       "      <td>2021-04-01</td>\n",
       "      <td>2022</td>\n",
       "      <td>Q1</td>\n",
       "      <td>4</td>\n",
       "      <td>Apr</td>\n",
       "      <td>Sikkim</td>\n",
       "      <td>4-Wheelers</td>\n",
       "      <td>0</td>\n",
       "      <td>361</td>\n",
       "    </tr>\n",
       "    <tr>\n",
       "      <th>2</th>\n",
       "      <td>2021-04-01</td>\n",
       "      <td>2022</td>\n",
       "      <td>Q1</td>\n",
       "      <td>4</td>\n",
       "      <td>Apr</td>\n",
       "      <td>Andaman &amp; Nicobar</td>\n",
       "      <td>2-Wheelers</td>\n",
       "      <td>0</td>\n",
       "      <td>515</td>\n",
       "    </tr>\n",
       "    <tr>\n",
       "      <th>3</th>\n",
       "      <td>2021-04-01</td>\n",
       "      <td>2022</td>\n",
       "      <td>Q1</td>\n",
       "      <td>4</td>\n",
       "      <td>Apr</td>\n",
       "      <td>Arunachal Pradesh</td>\n",
       "      <td>2-Wheelers</td>\n",
       "      <td>0</td>\n",
       "      <td>1256</td>\n",
       "    </tr>\n",
       "    <tr>\n",
       "      <th>4</th>\n",
       "      <td>2021-04-01</td>\n",
       "      <td>2022</td>\n",
       "      <td>Q1</td>\n",
       "      <td>4</td>\n",
       "      <td>Apr</td>\n",
       "      <td>Arunachal Pradesh</td>\n",
       "      <td>4-Wheelers</td>\n",
       "      <td>0</td>\n",
       "      <td>724</td>\n",
       "    </tr>\n",
       "  </tbody>\n",
       "</table>\n",
       "</div>"
      ],
      "text/plain": [
       "        date  fiscal_year quarter  month no month name              state  \\\n",
       "0 2021-04-01         2022      Q1         4        Apr             Sikkim   \n",
       "1 2021-04-01         2022      Q1         4        Apr             Sikkim   \n",
       "2 2021-04-01         2022      Q1         4        Apr  Andaman & Nicobar   \n",
       "3 2021-04-01         2022      Q1         4        Apr  Arunachal Pradesh   \n",
       "4 2021-04-01         2022      Q1         4        Apr  Arunachal Pradesh   \n",
       "\n",
       "  vehicle_category  electric_vehicles_sold  total_vehicles_sold  \n",
       "0       2-Wheelers                       0                  398  \n",
       "1       4-Wheelers                       0                  361  \n",
       "2       2-Wheelers                       0                  515  \n",
       "3       2-Wheelers                       0                 1256  \n",
       "4       4-Wheelers                       0                  724  "
      ]
     },
     "execution_count": 44,
     "metadata": {},
     "output_type": "execute_result"
    }
   ],
   "source": [
    "dateStatesTable.head()"
   ]
  },
  {
   "cell_type": "markdown",
   "id": "614f1412",
   "metadata": {},
   "source": [
    "Groups the data by month number and name, sums the total vehicles sold for each month, and sorts the results by month number."
   ]
  },
  {
   "cell_type": "code",
   "execution_count": 45,
   "id": "970a5ea9",
   "metadata": {},
   "outputs": [],
   "source": [
    "EVsSoldbyMonth = dateStatesTable.groupby([\"month no\", \"month name\"])[\"total_vehicles_sold\"].sum().reset_index().sort_values(\"month no\")"
   ]
  },
  {
   "cell_type": "code",
   "execution_count": 46,
   "id": "9a51ca28",
   "metadata": {},
   "outputs": [
    {
     "data": {
      "image/png": "[encoded data removed]",
      "text/plain": [
       "<Figure size 1200x400 with 1 Axes>"
      ]
     },
     "metadata": {},
     "output_type": "display_data"
    }
   ],
   "source": [
    "maxValue = EVsSoldbyMonth[\"total_vehicles_sold\"].max()\n",
    "maxMonth = EVsSoldbyMonth[EVsSoldbyMonth[\"total_vehicles_sold\"] == maxValue][\"month name\"].values[0]\n",
    "minValue = EVsSoldbyMonth[\"total_vehicles_sold\"].min()\n",
    "minMonth = EVsSoldbyMonth[EVsSoldbyMonth[\"total_vehicles_sold\"] == minValue][\"month name\"].values[0]\n",
    "\n",
    "\n",
    "plt.figure(figsize = (12, 4))\n",
    "\n",
    "plt.plot(EVsSoldbyMonth[\"month name\"], EVsSoldbyMonth[\"total_vehicles_sold\"])\n",
    "plt.scatter(maxMonth, maxValue, marker = \"o\", s = 20, color = 'green', zorder = 2, label = \"Max Value\")\n",
    "plt.scatter(minMonth, minValue, marker = \"o\", s = 20, color = 'red', zorder = 2, label = \"Max Value\")\n",
    "\n",
    "plt.xlabel(\"Month\")\n",
    "plt.ylabel(\"Total Vehicles Sold\")\n",
    "plt.title(\"Total Vehicles Sold Monthly Trend\")\n",
    "plt.show()"
   ]
  },
  {
   "cell_type": "code",
   "execution_count": 47,
   "id": "8ed53314",
   "metadata": {},
   "outputs": [
    {
     "data": {
      "image/png": "[encoded data removed]",
      "text/plain": [
       "<Figure size 1000x400 with 1 Axes>"
      ]
     },
     "metadata": {},
     "output_type": "display_data"
    }
   ],
   "source": [
    "EVsSoldbyMakers = dateMakersTable.groupby([\"fiscal_year\", \"maker\", \"vehicle_category\"])[\"electric_vehicles_sold\"].sum().reset_index().sort_values(\"electric_vehicles_sold\", ascending = False)\n",
    "\n",
    "plt.figure(figsize = (10, 4))\n",
    "plt.bar(EVsSoldbyMakers['maker'],EVsSoldbyMakers['electric_vehicles_sold'])\n",
    "plt.xticks(rotation = 90)\n",
    "plt.xlabel(\"Makers\")\n",
    "plt.ylabel(\"Electric Vehicles Sold\")\n",
    "plt.title(\"Electric Vehicles Sold by Makers\")\n",
    "plt.show()"
   ]
  },
  {
   "cell_type": "markdown",
   "id": "ae4b2f69",
   "metadata": {},
   "source": [
    "## Primary Questions"
   ]
  },
  {
   "cell_type": "markdown",
   "id": "af945bbd",
   "metadata": {},
   "source": [
    "1. List the top 3 and bottom 3 makers for the fiscal years 2023 and 2024 in terms of the number of 2-wheelers sold."
   ]
  },
  {
   "cell_type": "code",
   "execution_count": 49,
   "id": "560de3c5",
   "metadata": {},
   "outputs": [
    {
     "name": "stdout",
     "output_type": "stream",
     "text": [
      "\u001b[1m Top 3 makers for fiscal year 2023(2-Wheelers)\u001b[0m:\n",
      "           maker       2023\n",
      "                 2-Wheelers\n",
      "0   Ola Electric   152583.0\n",
      "1        Okinawa    96945.0\n",
      "2  Hero Electric    88993.0\n",
      "\n",
      "\u001b[1m Top 3 makers for fiscal year 2024(2-Wheelers)\u001b[0m:\n",
      "          maker       2024\n",
      "                2-Wheelers\n",
      "0  Ola Electric   322489.0\n",
      "1           Tvs   180743.0\n",
      "2         Ather   107552.0\n",
      "\n",
      "\u001b[1m Bottom 3 makers for fiscal year 2023(2-Wheelers)\u001b[0m:\n",
      "      maker       2023\n",
      "            2-Wheelers\n",
      "0  Jitendra     8563.0\n",
      "1     Being    11018.0\n",
      "2   Pure Ev    11556.0\n",
      "\n",
      "\u001b[1m Bottom 3 makers for fiscal year 2024(2-Wheelers)\u001b[0m:\n",
      "             maker       2024\n",
      "                   2-Wheelers\n",
      "0  Battre Electric     4841.0\n",
      "1           Revolt     7254.0\n",
      "2    Kinetic Green     9585.0\n"
     ]
    }
   ],
   "source": [
    "EVsSoldFY = EVsSoldbyMakers.pivot(columns = ['fiscal_year', 'vehicle_category'], index = 'maker', values = \"electric_vehicles_sold\")\n",
    "\n",
    "print(\"\\033[1m Top 3 makers for fiscal year 2023(2-Wheelers)\\033[0m:\")\n",
    "print(EVsSoldFY[(2023, \"2-Wheelers\")].sort_values(ascending = False).head(3).reset_index())\n",
    "\n",
    "print(\"\\n\\033[1m Top 3 makers for fiscal year 2024(2-Wheelers)\\033[0m:\")\n",
    "print(EVsSoldFY[(2024, \"2-Wheelers\")].sort_values(ascending = False).head(3).reset_index())\n",
    "\n",
    "print(\"\\n\\033[1m Bottom 3 makers for fiscal year 2023(2-Wheelers)\\033[0m:\")\n",
    "print(EVsSoldFY[(2023, \"2-Wheelers\")].sort_values().head(3).reset_index())\n",
    "\n",
    "print(\"\\n\\033[1m Bottom 3 makers for fiscal year 2024(2-Wheelers)\\033[0m:\")\n",
    "print(EVsSoldFY[(2024, \"2-Wheelers\")].sort_values().head(3).reset_index())"
   ]
  },
  {
   "cell_type": "markdown",
   "id": "f15c5e50",
   "metadata": {},
   "source": [
    "2. Identify the top 5 states with the highest penetration rate in 2-wheeler and 4-wheeler EV sales in FY 2024."
   ]
  },
  {
   "cell_type": "code",
   "execution_count": 51,
   "id": "d028d0d6",
   "metadata": {},
   "outputs": [],
   "source": [
    "statesPivot = dateStatesTable.groupby(['fiscal_year', 'state', 'vehicle_category'])[[\"electric_vehicles_sold\", \"total_vehicles_sold\"]].sum().reset_index()"
   ]
  },
  {
   "cell_type": "code",
   "execution_count": 54,
   "id": "00a4688c",
   "metadata": {},
   "outputs": [],
   "source": [
    "statesPivot[\"ev_penetration\"] = round((statesPivot.electric_vehicles_sold/ statesPivot.total_vehicles_sold) * 100, 2)"
   ]
  },
  {
   "cell_type": "code",
   "execution_count": 56,
   "id": "a7e087bb",
   "metadata": {},
   "outputs": [
    {
     "name": "stdout",
     "output_type": "stream",
     "text": [
      "\u001b[1m Top 5 states with the highest penetration rate in 2-wheeler in FY 2024\u001b[0m:\n",
      "          state  ev_penetration\n",
      "9           Goa           17.99\n",
      "16       Kerala           13.52\n",
      "15    Karnataka           11.57\n",
      "19  Maharashtra           10.07\n",
      "8         Delhi            9.40\n",
      "\n",
      "\u001b[1m Top 5 states with the highest penetration rate in 4-wheeler in FY 2024\u001b[0m:\n",
      "         state  ev_penetration\n",
      "16      Kerala            5.76\n",
      "5   Chandigarh            4.50\n",
      "8        Delhi            4.29\n",
      "15   Karnataka            4.26\n",
      "9          Goa            4.25\n"
     ]
    }
   ],
   "source": [
    "print(\"\\033[1m Top 5 states with the highest penetration rate in 2-wheeler in FY 2024\\033[0m:\")\n",
    "print(statesPivot[statesPivot['fiscal_year'] == 2024].query(\"vehicle_category == '2-Wheelers'\").reset_index()[['state', 'ev_penetration']].sort_values(by = \"ev_penetration\", ascending = False).head(5))\n",
    "\n",
    "print(\"\\n\\033[1m Top 5 states with the highest penetration rate in 4-wheeler in FY 2024\\033[0m:\")\n",
    "print(statesPivot[statesPivot['fiscal_year'] == 2024].query(\"vehicle_category == '4-Wheelers'\").reset_index()[['state', 'ev_penetration']].sort_values(by = \"ev_penetration\", ascending = False).head(5))"
   ]
  },
  {
   "cell_type": "markdown",
   "id": "455bf7ba",
   "metadata": {},
   "source": [
    "3. List the states with negative penetration (decline) in EV sales from 2022 to 2024?"
   ]
  },
  {
   "cell_type": "code",
   "execution_count": 57,
   "id": "4b51598d",
   "metadata": {},
   "outputs": [
    {
     "data": {
      "text/html": [
       "<div>\n",
       "<style scoped>\n",
       "    .dataframe tbody tr th:only-of-type {\n",
       "        vertical-align: middle;\n",
       "    }\n",
       "\n",
       "    .dataframe tbody tr th {\n",
       "        vertical-align: top;\n",
       "    }\n",
       "\n",
       "    .dataframe thead th {\n",
       "        text-align: right;\n",
       "    }\n",
       "</style>\n",
       "<table border=\"1\" class=\"dataframe\">\n",
       "  <thead>\n",
       "    <tr style=\"text-align: right;\">\n",
       "      <th>fiscal_year</th>\n",
       "      <th>state</th>\n",
       "      <th>2022</th>\n",
       "      <th>2024</th>\n",
       "      <th>EVPenetrationDifference</th>\n",
       "    </tr>\n",
       "  </thead>\n",
       "  <tbody>\n",
       "    <tr>\n",
       "      <th>0</th>\n",
       "      <td>Andaman &amp; Nicobar</td>\n",
       "      <td>0.94</td>\n",
       "      <td>0.575</td>\n",
       "      <td>-0.36</td>\n",
       "    </tr>\n",
       "    <tr>\n",
       "      <th>17</th>\n",
       "      <td>Ladakh</td>\n",
       "      <td>2.24</td>\n",
       "      <td>2.030</td>\n",
       "      <td>-0.21</td>\n",
       "    </tr>\n",
       "  </tbody>\n",
       "</table>\n",
       "</div>"
      ],
      "text/plain": [
       "fiscal_year              state  2022   2024  EVPenetrationDifference\n",
       "0            Andaman & Nicobar  0.94  0.575                    -0.36\n",
       "17                      Ladakh  2.24  2.030                    -0.21"
      ]
     },
     "execution_count": 57,
     "metadata": {},
     "output_type": "execute_result"
    }
   ],
   "source": [
    "statesEVPivot = statesPivot.pivot_table(index = 'state', columns = 'fiscal_year', values = 'ev_penetration').reset_index()\n",
    "statesEVPivotFiltered = statesEVPivot[['state', 2022, 2024]]\n",
    "statesEVPivotFiltered[\"EVPenetrationDifference\"] = round(statesEVPivotFiltered[2024] - statesEVPivotFiltered[2022], 2)\n",
    "\n",
    "statesEVPivotFiltered[statesEVPivotFiltered[\"EVPenetrationDifference\"] < 0]"
   ]
  },
  {
   "cell_type": "markdown",
   "id": "23c4dde0",
   "metadata": {},
   "source": [
    "4. What are the quarterly trends based on sales volume for the top 5 EV makers (4-wheelers) from 2022 to 2024?"
   ]
  },
  {
   "cell_type": "code",
   "execution_count": 58,
   "id": "1c6e4479",
   "metadata": {},
   "outputs": [
    {
     "name": "stdout",
     "output_type": "stream",
     "text": [
      "\u001b[1mTop 5 Makers(4-Wheelers): \u001b[0m\n",
      "Tata Motors\n",
      "Mahindra & Mahindra\n",
      "Mg Motor\n",
      "Byd India\n",
      "Hyundai Motor\n",
      "\n",
      "\n"
     ]
    },
    {
     "data": {
      "image/png": "[encoded data removed]",
      "text/plain": [
       "<Figure size 1200x600 with 1 Axes>"
      ]
     },
     "metadata": {},
     "output_type": "display_data"
    }
   ],
   "source": [
    "Top5EVMakers = dateMakersTable[dateMakersTable['vehicle_category'] == \"4-Wheelers\"].groupby('maker')['electric_vehicles_sold'].sum().sort_values(ascending = False).head().reset_index()\n",
    "dateMakersFiltered = dateMakersTable[dateMakersTable[\"maker\"].isin(Top5EVMakers['maker'])]\n",
    "\n",
    "print(\"\\033[1mTop 5 Makers(4-Wheelers): \\033[0m\")\n",
    "for maker in Top5EVMakers['maker']:\n",
    "    print(maker)\n",
    "\n",
    "print(\"\\n\")\n",
    "\n",
    "dateMakersFilteredPivot = dateMakersFiltered.groupby(['maker', \"quarter\"])['electric_vehicles_sold'].sum().reset_index()\n",
    "\n",
    "makers = dateMakersFiltered['maker'].unique()\n",
    "\n",
    "plt.figure(figsize = (12, 6))\n",
    "for maker in makers:\n",
    "    subset = dateMakersFilteredPivot[dateMakersFilteredPivot['maker'] == maker]\n",
    "    plt.plot(subset[\"quarter\"], subset['electric_vehicles_sold'], marker = 'x', label = maker)\n",
    "\n",
    "plt.xlabel(\"Quarter\")\n",
    "plt.ylabel(\"EV sold volume\")\n",
    "plt.legend(title = \"Maker\")\n",
    "plt.title(\"Quarterly trends based on sales volume for the top 5 EV makers (4-wheelers) from 2022 to 2024\")\n",
    "plt.show()"
   ]
  },
  {
   "cell_type": "markdown",
   "id": "a620d010",
   "metadata": {},
   "source": [
    "5. How do the EV sales and penetration rates in Delhi compare to Karnataka for 2024?"
   ]
  },
  {
   "cell_type": "code",
   "execution_count": 59,
   "id": "933be438",
   "metadata": {},
   "outputs": [
    {
     "name": "stdout",
     "output_type": "stream",
     "text": [
      "\u001b[1mEV Sales & Penetration Rate(Delhi vs Karnataka)\u001b[0m\n",
      "\n"
     ]
    },
    {
     "data": {
      "text/html": [
       "<div>\n",
       "<style scoped>\n",
       "    .dataframe tbody tr th:only-of-type {\n",
       "        vertical-align: middle;\n",
       "    }\n",
       "\n",
       "    .dataframe tbody tr th {\n",
       "        vertical-align: top;\n",
       "    }\n",
       "\n",
       "    .dataframe thead th {\n",
       "        text-align: right;\n",
       "    }\n",
       "</style>\n",
       "<table border=\"1\" class=\"dataframe\">\n",
       "  <thead>\n",
       "    <tr style=\"text-align: right;\">\n",
       "      <th></th>\n",
       "      <th>state</th>\n",
       "      <th>electric_vehicles_sold</th>\n",
       "      <th>total_vehicles_sold</th>\n",
       "      <th>ev_penetration</th>\n",
       "    </tr>\n",
       "  </thead>\n",
       "  <tbody>\n",
       "    <tr>\n",
       "      <th>0</th>\n",
       "      <td>Delhi</td>\n",
       "      <td>46724</td>\n",
       "      <td>606348</td>\n",
       "      <td>7.71%</td>\n",
       "    </tr>\n",
       "    <tr>\n",
       "      <th>1</th>\n",
       "      <td>Karnataka</td>\n",
       "      <td>160989</td>\n",
       "      <td>1581988</td>\n",
       "      <td>10.18%</td>\n",
       "    </tr>\n",
       "  </tbody>\n",
       "</table>\n",
       "</div>"
      ],
      "text/plain": [
       "       state  electric_vehicles_sold  total_vehicles_sold ev_penetration\n",
       "0      Delhi                   46724               606348          7.71%\n",
       "1  Karnataka                  160989              1581988         10.18%"
      ]
     },
     "execution_count": 59,
     "metadata": {},
     "output_type": "execute_result"
    }
   ],
   "source": [
    "print(\"\\033[1mEV Sales & Penetration Rate(Delhi vs Karnataka)\\033[0m\\n\")\n",
    "statesPivotDK = dateStatesTable.query(\"fiscal_year == 2024\")[dateStatesTable[\"state\"].isin(['Delhi', 'Karnataka'])].groupby('state')[[\"electric_vehicles_sold\", \"total_vehicles_sold\"]].sum().reset_index()\n",
    "statesPivotDK['ev_penetration'] = round((statesPivotDK['electric_vehicles_sold']/ statesPivotDK['total_vehicles_sold']) * 100, 2).astype(str) + \"%\"\n",
    "statesPivotDK"
   ]
  },
  {
   "cell_type": "markdown",
   "id": "b9ac16fd",
   "metadata": {},
   "source": [
    "6. List down the compounded annual growth rate (CAGR) in 4-wheeler units for the top 5 makers from 2022 to 2024."
   ]
  },
  {
   "cell_type": "code",
   "execution_count": 60,
   "id": "f2eba98f",
   "metadata": {},
   "outputs": [
    {
     "name": "stdout",
     "output_type": "stream",
     "text": [
      "\u001b[1mCAGR for top 5 makers(4-Wheelers):\u001b[0m\n",
      "\n",
      "                 maker electric_vehicles_sold\n",
      "0            Byd India                566.52%\n",
      "1        Hyundai Motor                255.48%\n",
      "2  Mahindra & Mahindra                140.33%\n",
      "3             Mg Motor                131.53%\n",
      "4          Tata Motors                 94.71%\n"
     ]
    }
   ],
   "source": [
    "fourWheelersTable = dateMakersTable.query(\"vehicle_category == '4-Wheelers'\")\n",
    "fourWheelerstopfive = fourWheelersTable.groupby('maker')['electric_vehicles_sold'].sum().sort_values(ascending = False).reset_index().head()\n",
    "filtered = fourWheelersTable[fourWheelersTable['maker'].isin(fourWheelerstopfive.maker)]\n",
    "\n",
    "\n",
    "beginingValue = filtered.query(\"fiscal_year == 2022\").groupby('maker')['electric_vehicles_sold'].sum()\n",
    "endingValue = filtered.query(\"fiscal_year == 2024\").groupby('maker')['electric_vehicles_sold'].sum()\n",
    "\n",
    "CAGRtopFive = round((((endingValue/ beginingValue) ** (1/ (2024 - 2022))) - 1) * 100, 2).astype(str) + \"%\"\n",
    "\n",
    "print(\"\\033[1mCAGR for top 5 makers(4-Wheelers):\\033[0m\\n\")\n",
    "print(CAGRtopFive.reset_index())"
   ]
  },
  {
   "cell_type": "markdown",
   "id": "6f00187a",
   "metadata": {},
   "source": [
    "7. List down the top 10 states that had the highest compounded annual growth rate (CAGR) from 2022 to 2024 in total vehicles sold."
   ]
  },
  {
   "cell_type": "code",
   "execution_count": 61,
   "id": "edf986b2",
   "metadata": {},
   "outputs": [
    {
     "name": "stdout",
     "output_type": "stream",
     "text": [
      "\u001b[1mTop 10 states with highest CAGR in total Vehicles Sold:\u001b[0m\n",
      "\n",
      "               state   CAGR\n",
      "0          Meghalaya  28.47\n",
      "1                Goa  27.41\n",
      "2          Karnataka  25.28\n",
      "3              Delhi  22.88\n",
      "4          Rajasthan  21.50\n",
      "5            Gujarat  20.55\n",
      "6              Assam  20.13\n",
      "7            Mizoram  18.77\n",
      "8  Arunachal Pradesh  18.30\n",
      "9  Andaman & Nicobar  18.29\n"
     ]
    }
   ],
   "source": [
    "beginingValueTV = dateStatesTable[dateStatesTable[\"fiscal_year\"] == 2022].groupby('state')['total_vehicles_sold'].sum()\n",
    "endingValueTV = dateStatesTable[dateStatesTable[\"fiscal_year\"] == 2024].groupby('state')['total_vehicles_sold'].sum()\n",
    "\n",
    "CAGR = round((((endingValueTV/ beginingValueTV) ** (1/ (2024 - 2022))) - 1) * 100, 2).sort_values(ascending = False).reset_index().rename(columns = {'total_vehicles_sold' : 'CAGR'})\n",
    "print(\"\\033[1mTop 10 states with highest CAGR in total Vehicles Sold:\\033[0m\\n\")\n",
    "print(CAGR.head(10))"
   ]
  },
  {
   "cell_type": "markdown",
   "id": "3aaa0545",
   "metadata": {},
   "source": [
    "8. What are the peak and low season months for EV sales based on the data from 2022 to 2024?"
   ]
  },
  {
   "cell_type": "code",
   "execution_count": 62,
   "id": "01f085f7",
   "metadata": {},
   "outputs": [
    {
     "data": {
      "image/png": "[encoded data removed]",
      "text/plain": [
       "<Figure size 1200x400 with 1 Axes>"
      ]
     },
     "metadata": {},
     "output_type": "display_data"
    }
   ],
   "source": [
    "month_order = ['Jan', 'Feb', 'Mar', 'Apr', 'May', 'Jun', 'Jul', 'Aug', 'Sep', 'Oct', 'Nov', 'Dec']\n",
    "dateStatesTable['month name'] = pd.Categorical(dateStatesTable['month name'], categories = month_order, ordered = True)\n",
    "\n",
    "EVsSoldbyMonth = dateStatesTable.groupby('month name')['electric_vehicles_sold'].sum().reset_index()\n",
    "EVsSoldbyMonth['month name'] = pd.Categorical(EVsSoldbyMonth['month name'], categories = month_order, ordered = True)\n",
    "\n",
    "maxValueEV = EVsSoldbyMonth['electric_vehicles_sold'].max()\n",
    "maxMonthEV = EVsSoldbyMonth[EVsSoldbyMonth['electric_vehicles_sold'] == maxValueEV]['month name'].values[0]\n",
    "\n",
    "minValueEV = EVsSoldbyMonth['electric_vehicles_sold'].min()\n",
    "minMonthEV = EVsSoldbyMonth[EVsSoldbyMonth['electric_vehicles_sold'] == minValueEV].min().values[0]\n",
    "\n",
    "\n",
    "\n",
    "plt.figure(figsize = (12, 4))\n",
    "plt.plot(EVsSoldbyMonth['month name'], EVsSoldbyMonth['electric_vehicles_sold'])\n",
    "plt.scatter(maxMonthEV, maxValueEV, color = 'orange', zorder = 2)\n",
    "plt.scatter(minMonthEV, minValueEV, color = 'red', zorder = 2)\n",
    "plt.show()"
   ]
  },
  {
   "cell_type": "markdown",
   "id": "abeeb736",
   "metadata": {},
   "source": [
    "9. What is the projected number of EV sales (including 2-wheelers and 4-wheelers) for the top 10 states by penetration rate in 2030, based on the compounded annual growth rate (CAGR) from previous years?"
   ]
  },
  {
   "cell_type": "code",
   "execution_count": 63,
   "id": "ef73e0cc",
   "metadata": {},
   "outputs": [
    {
     "name": "stdout",
     "output_type": "stream",
     "text": [
      "\u001b[1mProjected EV Sales in 2030\u001b[0m\n",
      "\n"
     ]
    },
    {
     "data": {
      "text/html": [
       "<div>\n",
       "<style scoped>\n",
       "    .dataframe tbody tr th:only-of-type {\n",
       "        vertical-align: middle;\n",
       "    }\n",
       "\n",
       "    .dataframe tbody tr th {\n",
       "        vertical-align: top;\n",
       "    }\n",
       "\n",
       "    .dataframe thead th {\n",
       "        text-align: right;\n",
       "    }\n",
       "</style>\n",
       "<table border=\"1\" class=\"dataframe\">\n",
       "  <thead>\n",
       "    <tr style=\"text-align: right;\">\n",
       "      <th></th>\n",
       "      <th>state</th>\n",
       "      <th>electric_vehicles_sold</th>\n",
       "      <th>CAGREVSales</th>\n",
       "      <th>projesctedEVSales</th>\n",
       "    </tr>\n",
       "  </thead>\n",
       "  <tbody>\n",
       "    <tr>\n",
       "      <th>6</th>\n",
       "      <td>Maharashtra</td>\n",
       "      <td>197169</td>\n",
       "      <td>101.89</td>\n",
       "      <td>13351421.0</td>\n",
       "    </tr>\n",
       "    <tr>\n",
       "      <th>5</th>\n",
       "      <td>Kerala</td>\n",
       "      <td>73938</td>\n",
       "      <td>132.83</td>\n",
       "      <td>11778808.0</td>\n",
       "    </tr>\n",
       "    <tr>\n",
       "      <th>3</th>\n",
       "      <td>Gujarat</td>\n",
       "      <td>84359</td>\n",
       "      <td>116.33</td>\n",
       "      <td>8646332.0</td>\n",
       "    </tr>\n",
       "    <tr>\n",
       "      <th>4</th>\n",
       "      <td>Karnataka</td>\n",
       "      <td>160989</td>\n",
       "      <td>93.24</td>\n",
       "      <td>8382593.0</td>\n",
       "    </tr>\n",
       "    <tr>\n",
       "      <th>7</th>\n",
       "      <td>Odisha</td>\n",
       "      <td>39118</td>\n",
       "      <td>102.94</td>\n",
       "      <td>2732641.0</td>\n",
       "    </tr>\n",
       "    <tr>\n",
       "      <th>2</th>\n",
       "      <td>Goa</td>\n",
       "      <td>10799</td>\n",
       "      <td>146.45</td>\n",
       "      <td>2419672.0</td>\n",
       "    </tr>\n",
       "    <tr>\n",
       "      <th>8</th>\n",
       "      <td>Rajasthan</td>\n",
       "      <td>66444</td>\n",
       "      <td>81.87</td>\n",
       "      <td>2404486.0</td>\n",
       "    </tr>\n",
       "    <tr>\n",
       "      <th>9</th>\n",
       "      <td>Tamil Nadu</td>\n",
       "      <td>94314</td>\n",
       "      <td>59.95</td>\n",
       "      <td>1579362.0</td>\n",
       "    </tr>\n",
       "    <tr>\n",
       "      <th>1</th>\n",
       "      <td>Delhi</td>\n",
       "      <td>46724</td>\n",
       "      <td>68.10</td>\n",
       "      <td>1054257.0</td>\n",
       "    </tr>\n",
       "    <tr>\n",
       "      <th>0</th>\n",
       "      <td>Chandigarh</td>\n",
       "      <td>2877</td>\n",
       "      <td>164.58</td>\n",
       "      <td>986920.0</td>\n",
       "    </tr>\n",
       "  </tbody>\n",
       "</table>\n",
       "</div>"
      ],
      "text/plain": [
       "         state  electric_vehicles_sold  CAGREVSales  projesctedEVSales\n",
       "6  Maharashtra                  197169       101.89         13351421.0\n",
       "5       Kerala                   73938       132.83         11778808.0\n",
       "3      Gujarat                   84359       116.33          8646332.0\n",
       "4    Karnataka                  160989        93.24          8382593.0\n",
       "7       Odisha                   39118       102.94          2732641.0\n",
       "2          Goa                   10799       146.45          2419672.0\n",
       "8    Rajasthan                   66444        81.87          2404486.0\n",
       "9   Tamil Nadu                   94314        59.95          1579362.0\n",
       "1        Delhi                   46724        68.10          1054257.0\n",
       "0   Chandigarh                    2877       164.58           986920.0"
      ]
     },
     "execution_count": 63,
     "metadata": {},
     "output_type": "execute_result"
    }
   ],
   "source": [
    "# Projected EV Sales \n",
    "\n",
    "top10StatesbyEVPenetration = statesPivot.groupby('state')['ev_penetration'].sum().sort_values(ascending = False).head(10).reset_index()\n",
    "\n",
    "beginingValueEVSales = dateStatesTable.query('fiscal_year == 2022')[dateStatesTable['state'].isin(top10StatesbyEVPenetration.state)].groupby('state')['electric_vehicles_sold'].sum().reset_index()\n",
    "endingValueEVSales = dateStatesTable.query('fiscal_year == 2024')[dateStatesTable['state'].isin(top10StatesbyEVPenetration.state)].groupby('state')['electric_vehicles_sold'].sum().reset_index()\n",
    "endingValueEVSales['CAGREVSales'] = round((((endingValueEVSales['electric_vehicles_sold']/ beginingValueEVSales['electric_vehicles_sold']) ** (1/ (2024 - 2022))) - 1) * 100, 2)\n",
    "endingValueEVSales['projesctedEVSales'] = round(endingValueEVSales['electric_vehicles_sold'] * ((endingValueEVSales['CAGREVSales'] / 100) + 1) ** 6, 0)\n",
    "\n",
    "print(\"\\033[1mProjected EV Sales in 2030\\033[0m\\n\")\n",
    "endingValueEVSales.sort_values(by = 'projesctedEVSales', ascending = False)"
   ]
  },
  {
   "cell_type": "markdown",
   "id": "bd3f1918",
   "metadata": {},
   "source": [
    "10. Estimate the revenue growth rate of 4-wheeler and 2-wheelers EVs in India for 2022 vs 2024 and 2023 vs 2024, assuming an average unit price."
   ]
  },
  {
   "cell_type": "code",
   "execution_count": 64,
   "id": "0090b899",
   "metadata": {},
   "outputs": [
    {
     "name": "stdout",
     "output_type": "stream",
     "text": [
      "\u001b[1m2-Wheeler Growth Rate\u001b[0m\n",
      "\n",
      "\u001b[1m2022 vs 2024\u001b[0m\n",
      "269.28%\n",
      "\n",
      "\u001b[1m2023 vs 2024\u001b[0m\n",
      "28.13%\n",
      "\n",
      "\u001b[1m4-Wheeler Growth Rate\u001b[0m\n",
      "\n",
      "\u001b[1m2022 vs 2024\u001b[0m\n",
      "367.79%\n",
      "\n",
      "\u001b[1m2023 vs 2024\u001b[0m\n",
      "83.08%\n"
     ]
    }
   ],
   "source": [
    "# 2-Wheeler \n",
    "Revenue2024 = dateStatesTable.query('fiscal_year == 2024')[dateStatesTable['vehicle_category'] == '2-Wheelers']['electric_vehicles_sold'].sum() * 85000\n",
    "Revenue2023 = dateStatesTable.query('fiscal_year == 2023')[dateStatesTable['vehicle_category'] == '2-Wheelers']['electric_vehicles_sold'].sum() * 85000\n",
    "Revenue2022 = dateStatesTable.query('fiscal_year == 2022')[dateStatesTable['vehicle_category'] == '2-Wheelers']['electric_vehicles_sold'].sum() * 85000\n",
    "\n",
    "print(\"\\033[1m2-Wheeler Growth Rate\\033[0m\")\n",
    "print(\"\\n\\033[1m2022 vs 2024\\033[0m\")\n",
    "print(round(((Revenue2024 - Revenue2022)/ Revenue2022) * 100, 2).astype(str) + \"%\")\n",
    "\n",
    "print(\"\\n\\033[1m2023 vs 2024\\033[0m\")\n",
    "print(round(((Revenue2024 - Revenue2023)/ Revenue2023) * 100, 2).astype(str) + \"%\")\n",
    "\n",
    "\n",
    "# 4-Wheeler \n",
    "FRevenue2024 = dateStatesTable.query('fiscal_year == 2024')[dateStatesTable['vehicle_category'] == '4-Wheelers']['electric_vehicles_sold'].sum() * 1500000\n",
    "FRevenue2023 = dateStatesTable.query('fiscal_year == 2023')[dateStatesTable['vehicle_category'] == '4-Wheelers']['electric_vehicles_sold'].sum() * 1500000\n",
    "FRevenue2022 = dateStatesTable.query('fiscal_year == 2022')[dateStatesTable['vehicle_category'] == '4-Wheelers']['electric_vehicles_sold'].sum() * 1500000\n",
    "\n",
    "print(\"\\n\\033[1m4-Wheeler Growth Rate\\033[0m\")\n",
    "print(\"\\n\\033[1m2022 vs 2024\\033[0m\")\n",
    "print(round(((FRevenue2024 - FRevenue2022)/ FRevenue2022) * 100, 2).astype(str) + \"%\")\n",
    "\n",
    "print(\"\\n\\033[1m2023 vs 2024\\033[0m\")\n",
    "print(round(((FRevenue2024 - FRevenue2023)/ FRevenue2023) * 100, 2).astype(str) + \"%\")"
   ]
  },
  {
   "cell_type": "code",
   "execution_count": null,
   "id": "3bc8e922",
   "metadata": {},
   "outputs": [],
   "source": []
  }
 ],
 "metadata": {
  "kernelspec": {
   "display_name": "Python 3 (ipykernel)",
   "language": "python",
   "name": "python3"
  },
  "language_info": {
   "codemirror_mode": {
    "name": "ipython",
    "version": 3
   },
   "file_extension": ".py",
   "mimetype": "text/x-python",
   "name": "python",
   "nbconvert_exporter": "python",
   "pygments_lexer": "ipython3",
   "version": "3.9.13"
  }
 },
 "nbformat": 4,
 "nbformat_minor": 5
}
